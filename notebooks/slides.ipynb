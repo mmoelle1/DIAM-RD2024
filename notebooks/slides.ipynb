{
 "cells": [
  {
   "cell_type": "markdown",
   "metadata": {
    "raw_mimetype": "",
    "slideshow": {
     "slide_type": "slide"
    },
    "tags": []
   },
   "source": [
    "# Object-oriented scientific programming with C++\n",
    "\n",
    "Matthias Möller, Jonas Thies, Cálin Georgescu, Jingya Li (Numerical Analysis, DIAM)\n",
    "\n",
    "Lecture 1"
   ]
  },
  {
   "cell_type": "markdown",
   "metadata": {
    "slideshow": {
     "slide_type": "slide"
    },
    "tags": []
   },
   "source": [
    "# What's this course about?\n",
    "<ol>\n",
    "    <li>Principles of <b>object oriented programming</b> (not restricted to C++)</li>\n",
    "    <li>Principles of <b>scientific programming</b> (also not restricted to C++)</li>\n",
    "    <li>C++ 11, 14, 17, 20 and some of 23, not C++ 03 and before</li>\n",
    "</ol> "
   ]
  },
  {
   "cell_type": "markdown",
   "metadata": {
    "slideshow": {
     "slide_type": "slide"
    },
    "tags": []
   },
   "source": [
    "# Object oriented programming\n",
    "\n",
    "<p>Using LEGO blocks as an analogy, you can think of object-oriented programming (OOP) as a way of building complex structures (programs) by piecing together different types of blocks (objects). These are the main concepts of OOP</p>\n",
    "\n",
    "<center><img src='plots/OOPs-Concepts.jpg' width=\"400px\"></center>"
   ]
  },
  {
   "cell_type": "markdown",
   "metadata": {
    "slideshow": {
     "slide_type": "slide"
    },
    "tags": []
   },
   "source": [
    "# A first example of OOP concepts\n",
    "\n",
    "<table>\n",
    "    <tr>\n",
    "        <th style=\"width:45%;\">Matlab</th>\n",
    "        <th style=\"width:10%;\"></th>\n",
    "        <th style=\"width:45%;\">Python</th>\n",
    "    </tr>\n",
    "    <tr>\n",
    "        <td>\n",
    "<code>A = [1 2; 3 4]\n",
    "size(A)</code>\n",
    "        </td>\n",
    "        <td></td>\n",
    "        <td>\n",
    "<code>A = numpy.matrix([[1, 2], [3, 4]])\n",
    "A.shape</code>\n",
    "        </td>\n",
    "    </tr>\n",
    "    <tr>\n",
    "        <td>\n",
    "            Here, <code>size()</code> is a standalone <b>functions</b> that is applied to the matrix A from outside. That means that <code>size()</code> must be able to deduce the matrix size. In other words, the matrix size is <b>publicly visible</b>.\n",
    "        </td>\n",
    "        <td></td>\n",
    "        <td>\n",
    "            Here, matrix A provides a <b>member attribute</b> to report its size from inside. The attribute is also <b>publicly visible</b> but offers more fine-grained control.\n",
    "        </td>\n",
    "    </tr>\n",
    "</table>"
   ]
  },
  {
   "cell_type": "markdown",
   "metadata": {
    "slideshow": {
     "slide_type": "slide"
    }
   },
   "source": [
    "# Course information\n",
    "\n",
    "<ul>\n",
    "    <li><b>Lectures</b> (nonobligatory)\n",
    "        <ul>\n",
    "            <li>weeks 2.1-2.7, Wed 13:45-15:45 in lecture hall Boole</li>\n",
    "            <li>recordings from previous years are available on BrightSpace</li>\n",
    "        </ul>\n",
    "    </li>\n",
    "    <li><b>Lab sessions</b> (nonobligatory)\n",
    "        <ul>\n",
    "            <li>weeks 2.2-2.8, Mon 15:45-17:45 (IDE Ctrl+Shift+Enter) and Tue 10:45-12:45 (IDE Ctrl+Enter)</li>\n",
    "            <li>this is the time and place to ask your questions (<span style=\"color:red;\">no office hours! no reply to emails! no reply to discussion forums!</span>)\n",
    "        </ul>\n",
    "    </li>\n",
    "</ul>"
   ]
  },
  {
   "cell_type": "markdown",
   "metadata": {
    "slideshow": {
     "slide_type": "subslide"
    },
    "tags": []
   },
   "source": [
    "<ul>\n",
    "    <li><b>WebLab</b> (<a href=\"https://weblab.tudelft.nl/tw3720tu-wi4771tu/2023-2024\">https://weblab.tudelft.nl/tw3720tu-wi4771tu/2023-2024</a>)\n",
    "        <ul>\n",
    "            <li>all demos, homework assignments and the final projects are provided via WebLab</li>\n",
    "            <li>weekly demos and homework assignments become available every Monday and must be submitted on Tuesday 23:59 two weeks later via WebLab</li>\n",
    "            <li>final projects become available in the week before Christmas and must be submitted by the end of Q2 via WebLab</li>\n",
    "        </ul>\n",
    "    </li>\n",
    "</ul>"
   ]
  },
  {
   "cell_type": "markdown",
   "metadata": {
    "slideshow": {
     "slide_type": "subslide"
    },
    "tags": []
   },
   "source": [
    "<ul>\n",
    "    <li><b>Assessment</b> (3 ECTS)\n",
    "        <ul>\n",
    "            <li>weekly homework assignments to be worked on <b>individually</b> (1/3 of the grade)</li>\n",
    "            <li>final project can be worked on in <b>groups of 1-3 students</b> (2/3 of the grade)</li>\n",
    "        </ul>\n",
    "    </li>\n",
    "    <li><b>Grading</b>\n",
    "        <ul>\n",
    "            <li>your code is checked automatically against <b>unit tests</b> (you get direct feedback, <span style=\"color:red;\">no human bias, no negotiation: pass=pass, fail=fail</span>)</li>\n",
    "        </ul>\n",
    "    </li>\n",
    "</ul>"
   ]
  },
  {
   "cell_type": "markdown",
   "metadata": {
    "slideshow": {
     "slide_type": "subslide"
    },
    "tags": []
   },
   "source": [
    "<ul>\n",
    "    <li><b>Unit tests</b>\n",
    "    <ul>\n",
    "        <li><span style=\"color:red;\">don’t try to reverse engineer the unit tests!</span></li>\n",
    "        <li><span style=\"color:red;\">don’t ask us to write the unit tests so that they tell you which line of your code needs to be changed and how!</span></li>\n",
    "        <li>write your code according to <b>all</b> requirements of the assignment, especially adhere to the given interfaces</li>\n",
    "        <li>test your code carefully and think about corner cases, e.g., math-operations between different data types</li>\n",
    "         <li>if you cannot find the error <b>ask us</b> during the lab sessions (and <b>not</b> 5 min before the submission deadline via email!)</li>\n",
    "    </ul>\n",
    "    </li>\n",
    "</ul>"
   ]
  },
  {
   "cell_type": "markdown",
   "metadata": {
    "slideshow": {
     "slide_type": "subslide"
    },
    "tags": []
   },
   "source": [
    "<ul>\n",
    "    <li><b>Fraud</b>\n",
    "    <ul>\n",
    "         <li>It is <b>prohibited to distribute the material</b> in full or in parts in any form (printed and electronically). This, in particular, prohibits the transfer of the material to webservices like Bitbucket, GitHub, Gitlab, etc. and the making available of solutions to the assignments. This action is considered piggybacking and will be treated as fraud.</li>\n",
    "        <li>It is <b>not forbidden to use ChatGPT or Co-Pilot</b> as a source of inspiration. However, you must understand the code you submit and you must be able to explain your code when asking for help from TAs. Questions like \"<i>This is what ChatGPT came up with, can you make it pass the unit tests?</i>\" will not be answered.</li>\n",
    "    </ul>\n",
    "    </li>\n",
    "</ul>"
   ]
  },
  {
   "cell_type": "markdown",
   "metadata": {
    "slideshow": {
     "slide_type": "slide"
    },
    "tags": []
   },
   "source": [
    "# After all formalities ...\n",
    "<ul>\n",
    "     <li>... ENJOY the course, I did so in all the years</li>\n",
    "     <li>... LEARN to write good C++ code</li>\n",
    "     <li>... DARE to think out-of-the-box</li>\n",
    "     <li>... ASK questions, I and my TAs are happy to answer them</li>\n",
    "</ul>\n",
    "\n",
    "<br>\n",
    "<br>\n",
    "\n",
    "<center>Let’s get started with the fun part</center>"
   ]
  },
  {
   "cell_type": "markdown",
   "metadata": {
    "slideshow": {
     "slide_type": "slide"
    },
    "tags": []
   },
   "source": [
    "# Programming languages\n",
    "<ul>\n",
    "     <li>A <b>computer programming language</b> is a formal notation (set of instructions) for writing computer programs</li>\n",
    "    <li>One distinguishes between</li>\n",
    "    <ul>\n",
    "        <li><b>Interpreted languages</b> : Python, JavaScript, ...</li>\n",
    "        <li><b>Compiled languages</b> : C/<span style=\"color:red;\">C++</span>, Fortran, Julia, ...</li>    \n",
    "     </ul>\n",
    "    <li>Another distinction is between</li>\n",
    "    <ul>\n",
    "        <li>Functional programming : treat computation as evaluation of math functions</li>\n",
    "        <li>Object-oriented programming : treat computation as <span style=\"color:red\">living objects</span> that have mutable <span style=\"color:red\">data</span> and provide <span style=\"color:red\">methods</span> to manipulate the data</li>\n",
    "    </ul>\n",
    "</ul>\n"
   ]
  },
  {
   "cell_type": "markdown",
   "metadata": {
    "slideshow": {
     "slide_type": "slide"
    },
    "tags": []
   },
   "source": [
    "# Pros and Cons of interpreted languages\n",
    "<center><img src='plots/pythonprocon.png' width=\"900px\"></center>"
   ]
  },
  {
   "cell_type": "markdown",
   "metadata": {
    "slideshow": {
     "slide_type": "slide"
    },
    "tags": []
   },
   "source": [
    "# Pros and Cons of compiled languages\n",
    "<center><img src='plots/cppprocon1.png' width=\"900px\"></center>"
   ]
  },
  {
   "cell_type": "markdown",
   "metadata": {
    "slideshow": {
     "slide_type": "slide"
    },
    "tags": []
   },
   "source": [
    "# Example of a compiled language\n",
    "<center><img src='plots/cppexample1.png' width=\"900px\"></center>"
   ]
  },
  {
   "cell_type": "markdown",
   "metadata": {
    "slideshow": {
     "slide_type": "slide"
    },
    "tags": []
   },
   "source": [
    "# Let’s get started\n",
    "<ul>\n",
    "    <li>Live demo in WebLab <a href=\"//weblab.tudelft.nl/tw3720tu-wi4771tu/2023-2024/\">https://weblab.tudelft.nl/tw3720tu-wi4771tu/2023-2024/</a></li>\n",
    "</ul>\n",
    "\n",
    "<ul> <li> Where to find information on C++\n",
    "        <ul>\n",
    "            <li> A Tour of C++: <a href=\"//isocpp.org/tour\">https://isocpp.org/tour</a></li>\n",
    "            <li> CPlusPlus: <a href=\"//www.cplusplus.com\">http://www.cplusplus.com</a></li>\n",
    "            <li> Geeks for Geeks: <a href=\"//www.geeksforgeeks.org/c-plus-plus/\">https://www.geeksforgeeks.org/c-plus-plus/</a></li>\n",
    "        </ul>\n",
    "    </li>\n",
    "</ul>"
   ]
  },
  {
   "cell_type": "markdown",
   "metadata": {
    "slideshow": {
     "slide_type": "slide"
    },
    "tags": []
   },
   "source": [
    "# Class vs. Object\n",
    "\n",
    "<p> Once again in LEGO terms ...</p>\n",
    "\n",
    "<table>\n",
    "    <tr>\n",
    "        <td style=\"width:45%;\">\n",
    "            A <b>class is a blueprint</b>, aka an instruction manual that tells you how to create something\n",
    "        </td>\n",
    "        <td style=\"width:10%;\"></td>\n",
    "        <td style=\"width:45%;\">\n",
    "            An <b>object</b> is a living instance created (instantiated) from the class blueprint\n",
    "        </td>\n",
    "    </tr>\n",
    "    <tr>\n",
    "        <td>\n",
    "            <img src='plots/class_lego.png' width=\"600px\">\n",
    "        </td>\n",
    "        <td><center>vs.</center></td>\n",
    "        <td>\n",
    "            <img src='plots/object_lego.png' width=\"300px\">\n",
    "        </td>\n",
    "    </tr>\n",
    "</table>"
   ]
  },
  {
   "cell_type": "markdown",
   "metadata": {
    "slideshow": {
     "slide_type": "subslide"
    }
   },
   "source": [
    "<p>Let's start with the following example, and learn everything (first two weeks) by filling in this example</p>\n"
   ]
  },
  {
   "cell_type": "code",
   "execution_count": null,
   "metadata": {
    "slideshow": {
     "slide_type": "-"
    },
    "tags": []
   },
   "outputs": [],
   "source": [
    "// The class. Recommendation: use // for single line comments\n",
    "class MyFirstClass { // ... and also at the end of a code line             \n",
    "};\n",
    "\n",
    "int main() {\n",
    "  /**\n",
    "   * Recommendation: use this syntax for multiline comments\n",
    "   * for multiline comments\n",
    "   */\n",
    "  MyFirstClass myObj;  // Create an object of MyFirstClass\n",
    "  return 0;\n",
    "}"
   ]
  },
  {
   "cell_type": "markdown",
   "metadata": {
    "slideshow": {
     "slide_type": "slide"
    }
   },
   "source": [
    "# Hello World!"
   ]
  },
  {
   "cell_type": "code",
   "execution_count": null,
   "metadata": {
    "slideshow": {
     "slide_type": "-"
    },
    "tags": []
   },
   "outputs": [],
   "source": [
    "// Include header file for standard input/output stream library\n",
    "#include <iostream>\n",
    "\n",
    "// The global main function that is the designated start of the program\n",
    "int main(){\n",
    "  /**\n",
    "    * Write the string 'Hello world!' to the default output stream and\n",
    "    * terminate with a new line (that is what std::endl does)\n",
    "    */\n",
    "  std::cout << \"Hello world!\" << std::endl; // or “Hello world!\\n”;\n",
    "  return 0; // Return code 0 to the operating system (=no error)\n",
    "}"
   ]
  },
  {
   "cell_type": "markdown",
   "metadata": {
    "slideshow": {
     "slide_type": "subslide"
    }
   },
   "source": [
    "<p>This can also be done by using a <b>class</b></p>"
   ]
  },
  {
   "cell_type": "code",
   "execution_count": null,
   "metadata": {
    "slideshow": {
     "slide_type": "-"
    }
   },
   "outputs": [],
   "source": [
    "#include <iostream>\n",
    "\n",
    "// HelloWorld class\n",
    "class HelloWorld {\n",
    "    public:\n",
    "    void PrintHelloWorld() // public member function\n",
    "    {\n",
    "        std::cout << \"Hello World!\\n\";\n",
    "    }\n",
    "};\n",
    "\n",
    "int main(){\n",
    "    HelloWorld hello; // create an object of HelloWorld\n",
    "    hello.PrintHelloWorld(); // call member function\n",
    "} "
   ]
  },
  {
   "cell_type": "markdown",
   "metadata": {
    "slideshow": {
     "slide_type": "subslide"
    },
    "tags": []
   },
   "source": [
    "<ul>\n",
    "    <li> Extra functionality provided by the standard C++ library is defined in so-called <b>header files</b> which need to be included via <code> #include &ltheaderfile&gt </code>, e.g.,\n",
    "        <ul>\n",
    "            <li> <code>iostream</code>: input/output\n",
    "            </li>\n",
    "            <li> <code>string</code>: string types\n",
    "            </li>\n",
    "            <li> <code>complex</code>: complex numbers\n",
    "            </li>\n",
    "            <li> Good overview : <a href=\"//www.cplusplus.com\">http://www.cplusplus.com</a></li>\n",
    "        </ul>\n",
    "    </li>\n",
    "    <li> We will write our own header files later in this course </li>\n",
    "</ul>"
   ]
  },
  {
   "cell_type": "markdown",
   "metadata": {
    "slideshow": {
     "slide_type": "slide"
    },
    "tags": []
   },
   "source": [
    "# OOP style and member function\n",
    "\n",
    "<div class=\"left\", style=\"width:50%;height:90%; float:left;\">\n",
    "    \n",
    "Function that computes the sum of a Vector\n",
    "\n",
    "<code>double sum(const Vector& v)\n",
    "{\n",
    "  double s = 0;\n",
    "  for (auto i=0; i&ltv.length; i++)\n",
    "    s += v.array[i];\n",
    "  return s;\n",
    "}</code>\n",
    "</div>\n",
    "\n",
    "<div class=\"right\", style=\"width:50%;height:90%; float:right;\">\n",
    "\n",
    "This is <b>NOT</b> really an OOP-style!\n",
    "\n",
    "<code>int main()\n",
    "{ \n",
    "  Vector x = { 1, 2, 3, 4, 5 };\n",
    "  std::cout &lt&lt sum(x) &lt&lt std::endl; \n",
    "}</code>\n",
    "</div>"
   ]
  },
  {
   "cell_type": "markdown",
   "metadata": {
    "slideshow": {
     "slide_type": "subslide"
    }
   },
   "source": [
    "<div class=\"left\", style=\"width:50%;height:90%; float:left;\">\n",
    "\n",
    "The member function version\n",
    "\n",
    "<code>class Vector\n",
    "{\n",
    "  public:\n",
    "  double sum(){\n",
    "    double s = 0;\n",
    "    for (auto i=0; i&ltlength; i++) \n",
    "      s+=array[i];\n",
    "    return s;\n",
    "  }\n",
    "}</code>\n",
    "</div>\n",
    "<div class=\"right\", style=\"width:50%;height:60%; float:right;\"> \n",
    "\n",
    "This is a <b>GOOD</b> OOP-style!\n",
    "\n",
    "<code>int main()\n",
    "{\n",
    "  Vector x = {1,2,3};\n",
    "  std::cout &lt&lt x.sum() &lt&lt std::endl;\n",
    "}</code></div>\n",
    "    \n",
    "<p>We will get back to this topic later</p>"
   ]
  },
  {
   "cell_type": "markdown",
   "metadata": {
    "slideshow": {
     "slide_type": "slide"
    },
    "tags": []
   },
   "source": [
    "# THE main function\n",
    "<p>Now let's only focus on the <code>main</code> function.</p>\n",
    "<ul>\n",
    "    <li>Each C++ program must provide one (and only one!) global <b>main function</b> which is the designated start of the program</li>\n",
    "    <p><code><span style=\"color:red;\">int main()</span><span style=\"color:blue;\">{</span> body <span style=\"color:blue;\">}</span> </code> OR</p>\n",
    "    <p><code><span style=\"color:red;\">int main(int argc, char* argv[])</span> <span style=\"color:blue;\">{</span> body <span style=\"color:blue;\">}</span></code></p>\n",
    "    <li><b>Scope</b> of the main function <span style=\"color:blue;\">{...}</span></li>\n",
    "    <li><b>Return type</b> of the main function is <code>int</code> (=integer): <code><span style=\"color:red;\">return 0;</span></code></li>\n",
    "    <li>Main function cannot be called recursively</li>\n",
    "</ul>"
   ]
  },
  {
   "cell_type": "markdown",
   "metadata": {
    "slideshow": {
     "slide_type": "slide"
    }
   },
   "source": [
    "# Standard output\n",
    "\n",
    "Stream-based output system"
   ]
  },
  {
   "cell_type": "code",
   "execution_count": 1,
   "metadata": {
    "slideshow": {
     "slide_type": "-"
    },
    "tags": []
   },
   "outputs": [
    {
     "name": "stdout",
     "output_type": "stream",
     "text": [
      "Hello world!\n"
     ]
    }
   ],
   "source": [
    "#include <iostream>\n",
    "\n",
    "std::cout << \"Hello world!\" << std::endl;"
   ]
  },
  {
   "cell_type": "markdown",
   "metadata": {
    "slideshow": {
     "slide_type": "subslide"
    },
    "tags": []
   },
   "source": [
    "Streams can be easily concatenated"
   ]
  },
  {
   "cell_type": "code",
   "execution_count": 2,
   "metadata": {
    "slideshow": {
     "slide_type": "-"
    },
    "tags": []
   },
   "outputs": [
    {
     "name": "stdout",
     "output_type": "stream",
     "text": [
      "Hello world!\n"
     ]
    }
   ],
   "source": [
    "std::cout << \"Hello\" << \" \" << \"world!\" << std::endl;"
   ]
  },
  {
   "cell_type": "markdown",
   "metadata": {
    "slideshow": {
     "slide_type": "subslide"
    },
    "tags": []
   },
   "source": [
    "Streams are part of the standard C++ library and therefore encapsulated in the <b>namespace</b> <code>std</code></li>; instead of using <code>std::</code> one can also import <b>all</b> functionality from the namespace by"
   ]
  },
  {
   "cell_type": "code",
   "execution_count": 3,
   "metadata": {
    "slideshow": {
     "slide_type": "-"
    },
    "tags": []
   },
   "outputs": [
    {
     "name": "stdout",
     "output_type": "stream",
     "text": [
      "Hello world!\n"
     ]
    }
   ],
   "source": [
    "using namespace std;\n",
    "cout << \"Hello world!\" << endl;"
   ]
  },
  {
   "cell_type": "markdown",
   "metadata": {
    "slideshow": {
     "slide_type": "subslide"
    },
    "tags": []
   },
   "source": [
    "Predefined output streams\n",
    "<ul>\n",
    "    <li> <code>std::cout</code> : standard output stream</li>\n",
    "    <li> <code>std::cerr</code> : standard output stream for errors</li>\n",
    "    <li> <code>std::clog</code> : standard output stream for logging</li>\n",
    "</ul>"
   ]
  },
  {
   "cell_type": "markdown",
   "metadata": {
    "slideshow": {
     "slide_type": "slide"
    }
   },
   "source": [
    "# Variables and constants\n",
    "\n",
    "C++ is <b>case sensitive</b> and <b>typed</b>, that is, variables and constants have a <b>value</b> and a <b>concrete type</b>"
   ]
  },
  {
   "cell_type": "code",
   "execution_count": 4,
   "metadata": {
    "slideshow": {
     "slide_type": "-"
    },
    "tags": []
   },
   "outputs": [
    {
     "data": {
      "text/plain": [
       "15"
      ]
     },
     "execution_count": 4,
     "metadata": {},
     "output_type": "execute_result"
    }
   ],
   "source": [
    "int a = 10; // create integer variable and initialize it to 10\n",
    "a = 15;     // update the value of integer variable to 15"
   ]
  },
  {
   "cell_type": "markdown",
   "metadata": {
    "slideshow": {
     "slide_type": "subslide"
    }
   },
   "source": [
    "<b>Variables</b> can be updated, <b>constants</b> cannot"
   ]
  },
  {
   "cell_type": "code",
   "execution_count": 5,
   "metadata": {
    "slideshow": {
     "slide_type": "-"
    },
    "tags": []
   },
   "outputs": [
    {
     "name": "stderr",
     "output_type": "stream",
     "text": [
      "input_line_15:4:3: error: cannot assign to variable 'b' with const-qualified type 'const int'\n",
      "b = a;\n",
      "~ ^\n",
      "input_line_15:2:12: note: variable 'b' declared const here\n",
      " const int b = 20; // create integer constant and initialize it to 10\n",
      " ~~~~~~~~~~^~~~~~\n"
     ]
    },
    {
     "ename": "Interpreter Error",
     "evalue": "",
     "output_type": "error",
     "traceback": [
      "Interpreter Error: "
     ]
    }
   ],
   "source": [
    "const int b = 20; // create integer constant and initialize it to 10\n",
    "\n",
    "a = b;\n",
    "b = a;"
   ]
  },
  {
   "cell_type": "markdown",
   "metadata": {
    "slideshow": {
     "slide_type": "slide"
    },
    "tags": []
   },
   "source": [
    "# Initialization of constants\n",
    "\n",
    "<b>Constants</b> must be initialized during their <b>definition</b>"
   ]
  },
  {
   "cell_type": "code",
   "execution_count": 6,
   "metadata": {
    "slideshow": {
     "slide_type": "-"
    },
    "tags": []
   },
   "outputs": [],
   "source": [
    "const int c = 20;   // C-like initialization\n",
    "const int d(20);    // constructor initialization\n",
    "const int e = {20}; // uniform initialization, since C++11 \n",
    "const int f{20};"
   ]
  },
  {
   "cell_type": "markdown",
   "metadata": {
    "slideshow": {
     "slide_type": "slide"
    },
    "tags": []
   },
   "source": [
    "# Initialization of variables\n",
    "\n",
    "<b>Variables</b> can be initialized during their <b>definition </b> or (since they are variable) at any location later in the code"
   ]
  },
  {
   "cell_type": "code",
   "execution_count": 7,
   "metadata": {
    "slideshow": {
     "slide_type": "-"
    },
    "tags": []
   },
   "outputs": [
    {
     "data": {
      "text/plain": [
       "20"
      ]
     },
     "execution_count": 7,
     "metadata": {},
     "output_type": "execute_result"
    }
   ],
   "source": [
    "int g = 10;   // C-like initialization\n",
    "int h(20);    // constructor initialization\n",
    "int i = {20}; // uniform initialization, since C++11\n",
    "int j;        // only declaration (arbitrary value!)\n",
    "j = 20;       // assignment of value"
   ]
  },
  {
   "cell_type": "markdown",
   "metadata": {
    "slideshow": {
     "slide_type": "slide"
    }
   },
   "source": [
    "# Intermezzo: Terminology\n",
    "<ul>\n",
    "    <li>A <b>declaration</b> introduces the name of the variable or constant, and describes its type but does not create it\n",
    "    </li>\n",
    "    <p><code>extern int f;</code></p>\n",
    "    <li>A <b>definition<b> instantiates it (=creates it)\n",
    "    </li>\n",
    "    <p><code>int f;</code></p>\n",
    "    <li>An <b>initialization</b> initializes it (=assigns a value to it)\n",
    "    </li>\n",
    "    <p><code>f = 10;</code></p>\n",
    "    <li>All three steps can be combined, e.g., <code>int f{10}</code> or split across different source/header files (later in this course)\n",
    "    </li>\n",
    "</ul>"
   ]
  },
  {
   "cell_type": "markdown",
   "metadata": {
    "slideshow": {
     "slide_type": "slide"
    }
   },
   "source": [
    "# Scope of variables/constants\n",
    "\n",
    "Variables/constants are only visible in their <b>scope</b>"
   ]
  },
  {
   "cell_type": "code",
   "execution_count": null,
   "metadata": {
    "slideshow": {
     "slide_type": "-"
    },
    "tags": []
   },
   "outputs": [],
   "source": [
    "int main() {\n",
    "    int a = 10;  // variable a is visible here\n",
    "    {\n",
    "      int b = a; // variable a is visible here\n",
    "    }\n",
    "}"
   ]
  },
  {
   "cell_type": "markdown",
   "metadata": {
    "slideshow": {
     "slide_type": "subslide"
    }
   },
   "source": [
    "Variables/constants are only visible in their <b>scope</b>"
   ]
  },
  {
   "cell_type": "code",
   "execution_count": null,
   "metadata": {
    "slideshow": {
     "slide_type": "-"
    },
    "tags": []
   },
   "outputs": [],
   "source": [
    "int main() {\n",
    "    int a = 10;  // variable a is visible here\n",
    "    {\n",
    "      int b = a; // variable a is visible here\n",
    "    }\n",
    "    {\n",
    "      int c = b; // variable a is visible here,   \n",
    "    } // b is not(!) visible here -> error\n",
    "}"
   ]
  },
  {
   "cell_type": "markdown",
   "metadata": {
    "slideshow": {
     "slide_type": "subslide"
    }
   },
   "source": [
    "Another example"
   ]
  },
  {
   "cell_type": "code",
   "execution_count": null,
   "metadata": {
    "slideshow": {
     "slide_type": "-"
    },
    "tags": []
   },
   "outputs": [],
   "source": [
    "int main() {\n",
    "    int a = 10;   // variable a is visible here\n",
    "    {\n",
    "      int a = 20; // new variable a only visible in blue\n",
    "                  // scope, interrupts scope of red one\n",
    "      std::cout << a << std::endl; // is 20\n",
    "    }\n",
    "    std::cout << a << std::endl;   // is 10\n",
    "  }"
   ]
  },
  {
   "cell_type": "markdown",
   "metadata": {
    "slideshow": {
     "slide_type": "slide"
    }
   },
   "source": [
    "# C++ standard types"
   ]
  },
  {
   "cell_type": "markdown",
   "metadata": {
    "slideshow": {
     "slide_type": "-"
    }
   },
   "source": [
    "<table border=\"1\">\n",
    "    <thead>\n",
    "        <tr>\n",
    "            <th>Group</th>\n",
    "            <th>Type name</th>\n",
    "            <th>Notes on size / precision</th>\n",
    "        </tr>\n",
    "    </thead>\n",
    "    <tbody>\n",
    "        <tr>\n",
    "            <td rowspan=\"3\">Character types</td>\n",
    "            <td><code>char</code></td>\n",
    "            <td>Exactly one byte in size. At least 8 bits.</td>\n",
    "        </tr>\n",
    "        <tr>\n",
    "            <td><code>char16_t</code></td>\n",
    "            <td>Not smaller than char. At least 16 bits.</td>\n",
    "        </tr>\n",
    "        <tr>\n",
    "    <td><code>char32_t</code></td>\n",
    "            <td>Not smaller than char16_t. At least 32 bits.</td>\n",
    "        </tr>\n",
    "        <tr>\n",
    "            <td rowspan=\"5\">Integer types (signed and unsigned)</td>\n",
    "            <td><code>(un)signed char</code></td>\n",
    "            <td>Same size as char. At least 8 bits.</td>\n",
    "        </tr>\n",
    "        <tr>\n",
    "            <td><code>(un)signed short int</code></td>\n",
    "            <td>Not smaller than char. At least 16 bits.</td>\n",
    "        </tr>\n",
    "        <tr>\n",
    "            <td><code>(un)signed int</code></td>\n",
    "            <td>Not smaller than short. At least 16 bits.</td>\n",
    "        </tr>\n",
    "        <tr>\n",
    "            <td><code>(un)signed long int</code></td>\n",
    "            <td>Not smaller than int. At least 32 bits.</td>\n",
    "        </tr>\n",
    "        <tr>\n",
    "            <td><code>(un)signed long long int</code></td>\n",
    "            <td>Not smaller than long. At least 64 bits.</td>\n",
    "        </tr>\n",
    "        <tr>\n",
    "            <td rowspan=\"3\">Floating-point type</td>\n",
    "            <td><code>float</code></td>\n",
    "            <td>Precision not less than float</td>\n",
    "        </tr>\n",
    "        <tr>\n",
    "            <td><code>double</code></td>\n",
    "            <td>Precision not less than float</td>\n",
    "        </tr>\n",
    "        <tr>\n",
    "            <td><code>long double</code></td>\n",
    "            <td>Precision not less than double</td>\n",
    "        </tr>\n",
    "        <tr>\n",
    "            <td>Boolean type</td>\n",
    "            <td><code>bool</code></td>\n",
    "            <td></td>\n",
    "        </tr>\n",
    "    </tbody>\n",
    "</table>"
   ]
  },
  {
   "cell_type": "markdown",
   "metadata": {
    "slideshow": {
     "slide_type": "slide"
    }
   },
   "source": [
    "# Examples of C++ types\n",
    "\n",
    "Double-precision floating-point type"
   ]
  },
  {
   "cell_type": "code",
   "execution_count": 8,
   "metadata": {
    "slideshow": {
     "slide_type": "-"
    },
    "tags": []
   },
   "outputs": [],
   "source": [
    "double d1 = 1.0;\n",
    "double d2 = 1.;    // zero is added automatically\n",
    "double d3 = 1e3;   // -> 1000\n",
    "double d4 = 1.5E3; // -> 1500\n",
    "double d5 = 15e-2; // -> 0.15"
   ]
  },
  {
   "cell_type": "markdown",
   "metadata": {
    "slideshow": {
     "slide_type": "subslide"
    },
    "tags": []
   },
   "source": [
    "Single-precision floating-point type"
   ]
  },
  {
   "cell_type": "code",
   "execution_count": 9,
   "metadata": {
    "slideshow": {
     "slide_type": "-"
    },
    "tags": []
   },
   "outputs": [],
   "source": [
    "float f1 = 1.0f;   // or 1.0F suffix type specifier\n",
    "float f2 = 1.0;    // works the same but does conversion\n",
    "float f3 = 1.5e3F; // -> 1500"
   ]
  },
  {
   "cell_type": "markdown",
   "metadata": {
    "slideshow": {
     "slide_type": "slide"
    }
   },
   "source": [
    "# Mixing and conversion of types\n",
    "\n",
    "Getting the <b>type</b> of a variable"
   ]
  },
  {
   "cell_type": "code",
   "execution_count": 10,
   "metadata": {
    "slideshow": {
     "slide_type": "-"
    },
    "tags": []
   },
   "outputs": [
    {
     "name": "stdout",
     "output_type": "stream",
     "text": [
      "f\n",
      "d\n"
     ]
    },
    {
     "data": {
      "text/plain": [
       "@0x7f128339fde0"
      ]
     },
     "execution_count": 10,
     "metadata": {},
     "output_type": "execute_result"
    }
   ],
   "source": [
    "#include <typeinfo>\n",
    "\n",
    "float f = 1.7f; double d = 0.7;\n",
    "std::cout << typeid(f).name() << std::endl; // float\n",
    "std::cout << typeid(d).name() << std::endl; // double"
   ]
  },
  {
   "cell_type": "markdown",
   "metadata": {
    "slideshow": {
     "slide_type": "subslide"
    },
    "tags": []
   },
   "source": [
    "C++ converts different types automatically"
   ]
  },
  {
   "cell_type": "code",
   "execution_count": 11,
   "metadata": {
    "slideshow": {
     "slide_type": "-"
    },
    "tags": []
   },
   "outputs": [
    {
     "name": "stdout",
     "output_type": "stream",
     "text": [
      "d\n"
     ]
    },
    {
     "data": {
      "text/plain": [
       "@0x7f128339fde0"
      ]
     },
     "execution_count": 11,
     "metadata": {},
     "output_type": "execute_result"
    }
   ],
   "source": [
    "std::cout << typeid(f + d).name() << std::endl; // double"
   ]
  },
  {
   "cell_type": "markdown",
   "metadata": {
    "slideshow": {
     "slide_type": "subslide"
    }
   },
   "source": [
    "Check if you are happy with the result"
   ]
  },
  {
   "cell_type": "code",
   "execution_count": 12,
   "metadata": {
    "slideshow": {
     "slide_type": "-"
    },
    "tags": []
   },
   "outputs": [
    {
     "name": "stdout",
     "output_type": "stream",
     "text": [
      "f\n"
     ]
    },
    {
     "data": {
      "text/plain": [
       "@0x7f128339fde0"
      ]
     },
     "execution_count": 12,
     "metadata": {},
     "output_type": "execute_result"
    }
   ],
   "source": [
    "char  x = 'a'; \n",
    "float y = 1.7;\n",
    "std::cout << typeid(x + y).name() << std::endl; // float???"
   ]
  },
  {
   "cell_type": "markdown",
   "metadata": {
    "slideshow": {
     "slide_type": "subslide"
    }
   },
   "source": [
    "C++11 introduces the <code>auto</code> keyword, which makes handling\n",
    "of mixed types very easy"
   ]
  },
  {
   "cell_type": "code",
   "execution_count": 13,
   "metadata": {
    "slideshow": {
     "slide_type": "-"
    },
    "tags": []
   },
   "outputs": [
    {
     "name": "stdout",
     "output_type": "stream",
     "text": [
      "d\n"
     ]
    },
    {
     "data": {
      "text/plain": [
       "@0x7f128339fde0"
      ]
     },
     "execution_count": 13,
     "metadata": {},
     "output_type": "execute_result"
    }
   ],
   "source": [
    "auto x = f + d;\n",
    "std::cout << typeid(x).name() << std::endl; // double"
   ]
  },
  {
   "cell_type": "markdown",
   "metadata": {
    "slideshow": {
     "slide_type": "subslide"
    },
    "tags": []
   },
   "source": [
    "You can also explicitly <b>cast</b> one type into another"
   ]
  },
  {
   "cell_type": "code",
   "execution_count": 14,
   "metadata": {
    "slideshow": {
     "slide_type": "-"
    },
    "tags": []
   },
   "outputs": [
    {
     "name": "stdout",
     "output_type": "stream",
     "text": [
      "f\n",
      "i\n"
     ]
    },
    {
     "data": {
      "text/plain": [
       "@0x7f128339fde0"
      ]
     },
     "execution_count": 14,
     "metadata": {},
     "output_type": "execute_result"
    }
   ],
   "source": [
    "auto y = f + (float)d;\n",
    "std::cout << typeid(y).name() << std::endl; // float\n",
    "                \n",
    "auto z = (int) (f + (float)d);\n",
    "std::cout << typeid(z).name() << std::endl; // int"
   ]
  },
  {
   "cell_type": "markdown",
   "metadata": {
    "slideshow": {
     "slide_type": "slide"
    }
   },
   "source": [
    " # <code>auto</code> vs. explicit types\n",
    "    <ul>\n",
    "        <li><strong>Recommendation:</strong> use the keyword <code>auto</code></li>\n",
    "        <ul>\n",
    "            <li>to improve readability of the source code</li>\n",
    "            <li>to improve maintainability of the source code</li>\n",
    "            <li>to benefit from performance gains (later in this course)</li>\n",
    "        </ul>\n",
    "        <li>... unless explicit conversion is required</li>\n",
    "        <ul>\n",
    "            <li><code>auto a = 1.5+0.3;</code> // is <code>(double)1.8 = 1.8</code></li>\n",
    "            <li><code>int b = 1.5+0.3;</code> // is <code>(int)1.8 = 1</code></li>\n",
    "        </ul>\n",
    "        <li>... unless the C++ standard does not allow so, e.g., return type of a (pure) virtual function (later in this course)</li>\n",
    "</ul>"
   ]
  },
  {
   "cell_type": "markdown",
   "metadata": {
    "slideshow": {
     "slide_type": "slide"
    }
   },
   "source": [
    " # Use of suffix type specifiers\n",
    "<ul>\n",
    "        <li><b>Suffix type specifiers</b> (termed <b>literals</b>) seem unnecessary at first glance since constants are implicitly converted</li>\n",
    "        <ul>\n",
    "            <li><code>float f1 = 0.67;</code></li>\n",
    "        </ul>\n",
    "        <li>But keep in mind that <code>0.67</code> and <code>0.67f</code> are not the same</li>\n",
    "        <ul>\n",
    "            <li><code>std::cout << (f1 == 0.67);</code> // -> <span style=\"color:red;\">false</span></li>\n",
    "            <li><code>std::cout << (f1 == 0.67f);</code> // -> <span style=\"color:green;\">true</span></li>\n",
    "        </ul>\n",
    "</ul>"
   ]
  },
  {
   "cell_type": "code",
   "execution_count": 15,
   "metadata": {
    "slideshow": {
     "slide_type": "-"
    },
    "tags": []
   },
   "outputs": [
    {
     "name": "stdout",
     "output_type": "stream",
     "text": [
      "01"
     ]
    }
   ],
   "source": [
    "float f1 = 0.67;\n",
    "std::cout << (f1 == 0.67); \n",
    "std::cout << (f1 == 0.67f);"
   ]
  },
  {
   "cell_type": "markdown",
   "metadata": {
    "slideshow": {
     "slide_type": "slide"
    }
   },
   "source": [
    "# Address-of/dereference operators\n",
    "<div class=\"left\", style=\"width:50%;height:90%; float:left;\">\n",
    "    <ul>\n",
    "        <li>Integer variable</li>\n",
    "        <ul>\n",
    "            <li><code>int i = 10;</code></li>\n",
    "        </ul>\n",
    "        <li>Pointer to its address</li>\n",
    "        <ul>\n",
    "            <li><code>auto p = &amp;i;</code></li>\n",
    "        </ul>\n",
    "        <li>Dereference to its value</li>\n",
    "        <ul>\n",
    "            <li><code>int j = *p</code></li>\n",
    "        </ul>\n",
    "    </ul>\n",
    "</div>\n",
    "<div class=\"right\", style = \"width:50%; height:80%; float:right;\">\n",
    "<img src='plots/address-of.png' width=\"400px\">\n",
    "</div>"
   ]
  },
  {
   "cell_type": "code",
   "execution_count": 31,
   "metadata": {
    "slideshow": {
     "slide_type": "subslide"
    },
    "tags": []
   },
   "outputs": [],
   "source": [
    "int  i = 10;\n",
    "auto p = &i;\n",
    "int  j = *p;"
   ]
  },
  {
   "cell_type": "markdown",
   "metadata": {
    "slideshow": {
     "slide_type": "subslide"
    },
    "tags": []
   },
   "source": [
    "<b>Address-of operator</b> (<code>&</code>): returns the address of a variable\n",
    "(= its physical location in the computer’s main memory)"
   ]
  },
  {
   "cell_type": "code",
   "execution_count": 34,
   "metadata": {
    "slideshow": {
     "slide_type": "-"
    },
    "tags": []
   },
   "outputs": [
    {
     "name": "stdout",
     "output_type": "stream",
     "text": [
      "10\n",
      "1\n"
     ]
    }
   ],
   "source": [
    "std::cout << i << std::endl;\n",
    "std::cout << p << std::endl;"
   ]
  },
  {
   "cell_type": "markdown",
   "metadata": {
    "slideshow": {
     "slide_type": "subslide"
    },
    "tags": []
   },
   "source": [
    "Addresses are of <b>pointer</b> type (equal to that of the variable)"
   ]
  },
  {
   "cell_type": "code",
   "execution_count": 35,
   "metadata": {
    "slideshow": {
     "slide_type": "-"
    },
    "tags": []
   },
   "outputs": [
    {
     "name": "stdout",
     "output_type": "stream",
     "text": [
      "i\n",
      "Pi\n"
     ]
    },
    {
     "data": {
      "text/plain": [
       "@0x7f128339fde0"
      ]
     },
     "execution_count": 35,
     "metadata": {},
     "output_type": "execute_result"
    }
   ],
   "source": [
    "std::cout << typeid(i).name() << std::endl; // -> i\n",
    "std::cout << typeid(p).name() << std::endl; // -> Pi"
   ]
  },
  {
   "cell_type": "markdown",
   "metadata": {
    "slideshow": {
     "slide_type": "subslide"
    },
    "tags": []
   },
   "source": [
    "<b>Dereference operator</b> (<code>*</code>): returns the value behind the pointer (= the value stored at the physical location in the computer's main memory)"
   ]
  },
  {
   "cell_type": "code",
   "execution_count": 36,
   "metadata": {
    "slideshow": {
     "slide_type": "-"
    },
    "tags": []
   },
   "outputs": [
    {
     "name": "stdout",
     "output_type": "stream",
     "text": [
      "10\n",
      "10\n"
     ]
    }
   ],
   "source": [
    "std::cout <<  i << std::endl;\n",
    "std::cout << *p << std::endl;"
   ]
  },
  {
   "cell_type": "markdown",
   "metadata": {
    "slideshow": {
     "slide_type": "slide"
    }
   },
   "source": [
    "# Pointers and references\n",
    "\n",
    "<b>Pointers</b> can be used to have multiple variables (with\n",
    "different names) pointing to the same value, i.e. the same location in the computer's main memory"
   ]
  },
  {
   "cell_type": "code",
   "execution_count": 37,
   "metadata": {
    "slideshow": {
     "slide_type": "-"
    },
    "tags": []
   },
   "outputs": [],
   "source": [
    "int  i =  10;\n",
    "int* p = &i;"
   ]
  },
  {
   "cell_type": "markdown",
   "metadata": {
    "slideshow": {
     "slide_type": "subslide"
    },
    "tags": []
   },
   "source": [
    "Let us change the value of variable <code>i</code>\n"
   ]
  },
  {
   "cell_type": "code",
   "execution_count": 38,
   "metadata": {
    "slideshow": {
     "slide_type": "-"
    },
    "tags": []
   },
   "outputs": [
    {
     "name": "stdout",
     "output_type": "stream",
     "text": [
      "20\n"
     ]
    },
    {
     "data": {
      "text/plain": [
       "@0x7f128339fde0"
      ]
     },
     "execution_count": 38,
     "metadata": {},
     "output_type": "execute_result"
    }
   ],
   "source": [
    "i = 20; \n",
    "std::cout << *p << std::endl; // *p is 20"
   ]
  },
  {
   "cell_type": "markdown",
   "metadata": {
    "slideshow": {
     "slide_type": "subslide"
    }
   },
   "source": [
    "Dereference pointer <code>p</code> and change its value"
   ]
  },
  {
   "cell_type": "code",
   "execution_count": 39,
   "metadata": {
    "slideshow": {
     "slide_type": "-"
    },
    "tags": []
   },
   "outputs": [
    {
     "name": "stdout",
     "output_type": "stream",
     "text": [
      "30\n"
     ]
    },
    {
     "data": {
      "text/plain": [
       "@0x7f128339fde0"
      ]
     },
     "execution_count": 39,
     "metadata": {},
     "output_type": "execute_result"
    }
   ],
   "source": [
    "*p = 30; \n",
    "std::cout << i << std::endl; // i is 30"
   ]
  },
  {
   "cell_type": "markdown",
   "metadata": {
    "slideshow": {
     "slide_type": "subslide"
    }
   },
   "source": [
    "Change value of pointer <code>p</code> without dereferencing it"
   ]
  },
  {
   "cell_type": "code",
   "execution_count": 40,
   "metadata": {
    "slideshow": {
     "slide_type": "-"
    },
    "tags": []
   },
   "outputs": [
    {
     "name": "stdout",
     "output_type": "stream",
     "text": [
      "1\n",
      "0\n"
     ]
    },
    {
     "data": {
      "text/plain": [
       "@0x7f128339fde0"
      ]
     },
     "execution_count": 40,
     "metadata": {},
     "output_type": "execute_result"
    }
   ],
   "source": [
    "p = p+1; \n",
    "std::cout <<  p << std::endl; //  p is 0x0008\n",
    "std::cout << *p << std::endl; // *p is CRAP"
   ]
  },
  {
   "cell_type": "markdown",
   "metadata": {
    "slideshow": {
     "slide_type": "slide"
    }
   },
   "source": [
    "# Pointer hazards\n",
    "\n",
    "Pointers that remain uninitialized can cause hazard"
   ]
  },
  {
   "cell_type": "code",
   "execution_count": null,
   "metadata": {
    "slideshow": {
     "slide_type": "-"
    },
    "tags": []
   },
   "outputs": [],
   "source": [
    "int* p;\n",
    "std::cout <<  p << std::endl; // prints some memory address\n",
    "std::cout << *p << std::endl; // prints some random content at that address"
   ]
  },
  {
   "cell_type": "markdown",
   "metadata": {
    "slideshow": {
     "slide_type": "subslide"
    }
   },
   "source": [
    "C++11 introduces the new keyword <code>nullptr</code> that explicitly sets a pointer to <b>null</b>"
   ]
  },
  {
   "cell_type": "code",
   "execution_count": 42,
   "metadata": {
    "slideshow": {
     "slide_type": "-"
    },
    "tags": []
   },
   "outputs": [
    {
     "name": "stdout",
     "output_type": "stream",
     "text": [
      "0\n"
     ]
    },
    {
     "name": "stderr",
     "output_type": "stream",
     "text": [
      "input_line_64:4:15: warning: null passed to a callee that requires a non-null argument [-Wnonnull]\n",
      "std::cout << *p << std::endl; // yields Segmentation fault\n",
      "              ^\n"
     ]
    },
    {
     "ename": "Interpreter Exception",
     "evalue": "",
     "output_type": "error",
     "traceback": [
      "Interpreter Exception: "
     ]
    }
   ],
   "source": [
    "int * p = nullptr;\n",
    "std::cout <<  p << std::endl; // is 0x0\n",
    "std::cout << *p << std::endl; // yields Segmentation fault"
   ]
  },
  {
   "cell_type": "markdown",
   "metadata": {
    "slideshow": {
     "slide_type": "-"
    },
    "tags": []
   },
   "source": [
    "You can use <code>nullptr</code> to check if a pointer can be dereferenced without problems"
   ]
  },
  {
   "cell_type": "code",
   "execution_count": null,
   "metadata": {
    "slideshow": {
     "slide_type": "subslide"
    },
    "tags": []
   },
   "outputs": [],
   "source": [
    "std::cout << (p ? *p : NULL) << std::endl;"
   ]
  },
  {
   "cell_type": "markdown",
   "metadata": {
    "slideshow": {
     "slide_type": "slide"
    }
   },
   "source": [
    "# Error handling with exceptions\n",
    "\n",
    "Let us include the <code>exception</code> header file</li>"
   ]
  },
  {
   "cell_type": "code",
   "execution_count": 44,
   "metadata": {
    "slideshow": {
     "slide_type": "-"
    },
    "tags": []
   },
   "outputs": [],
   "source": [
    "#include <exception>"
   ]
  },
  {
   "cell_type": "markdown",
   "metadata": {
    "slideshow": {
     "slide_type": "subslide"
    },
    "tags": []
   },
   "source": [
    "Use <code>throw</code> to signal the occurrence of an anomalous situation</li>"
   ]
  },
  {
   "cell_type": "code",
   "execution_count": 45,
   "metadata": {
    "slideshow": {
     "slide_type": "-"
    },
    "tags": []
   },
   "outputs": [
    {
     "ename": "Standard Exception",
     "evalue": "An error occured",
     "output_type": "error",
     "traceback": [
      "Standard Exception: An error occured"
     ]
    }
   ],
   "source": [
    "throw std::runtime_error(\"An error occured\");"
   ]
  },
  {
   "cell_type": "markdown",
   "metadata": {
    "slideshow": {
     "slide_type": "subslide"
    }
   },
   "source": [
    "Use <code>try</code> and <code>catch</code> blocks to handle exceptions gracefully"
   ]
  },
  {
   "cell_type": "code",
   "execution_count": 46,
   "metadata": {},
   "outputs": [
    {
     "name": "stdout",
     "output_type": "stream",
     "text": [
      "An error occured\n"
     ]
    }
   ],
   "source": [
    "try \n",
    "{\n",
    "    throw std::runtime_error(\"An error occured\");\n",
    "} catch (const std::exception& e) \n",
    "{\n",
    "    std::cout << e.what() << std::endl; // or handle the exception\n",
    "}"
   ]
  },
  {
   "cell_type": "markdown",
   "metadata": {
    "slideshow": {
     "slide_type": "subslide"
    }
   },
   "source": [
    "# Error handling with assertion\n",
    "\n",
    "Let us include the <code>cassert</code> header file and assert that a condition is true"
   ]
  },
  {
   "cell_type": "code",
   "execution_count": 48,
   "metadata": {
    "slideshow": {
     "slide_type": "-"
    },
    "tags": []
   },
   "outputs": [],
   "source": [
    "#include <cassert>\n",
    "\n",
    "float f1 = 0.67;\n",
    "assert(f1 == 0.67);"
   ]
  },
  {
   "cell_type": "markdown",
   "metadata": {
    "slideshow": {
     "slide_type": "-"
    },
    "tags": []
   },
   "source": [
    "<u><b>Quiz</b></u>: Why does nothing happen here?"
   ]
  },
  {
   "cell_type": "markdown",
   "metadata": {
    "slideshow": {
     "slide_type": "subslide"
    },
    "tags": []
   },
   "source": [
    "Let us turn on debug mode by explicitly disabling the non-debug (<code>#undef NDEBUG</code>) mode"
   ]
  },
  {
   "cell_type": "code",
   "execution_count": null,
   "metadata": {
    "slideshow": {
     "slide_type": "-"
    },
    "tags": []
   },
   "outputs": [],
   "source": [
    "#undef NDEBUG\n",
    "#include <cassert>\n",
    "\n",
    "float f1 = 0.67;\n",
    "assert(f1 == 0.67);"
   ]
  },
  {
   "cell_type": "markdown",
   "metadata": {
    "slideshow": {
     "slide_type": "-"
    },
    "tags": []
   },
   "source": [
    "The <code>assert(expression)</code> function evaluates the <code>expression</code> inside parentheses. If it evaluates to <code>false</code>, <code>assert</code> will print an error message and then terminate the program but only if the code is compiled in debug mode. \n",
    "\n",
    "<b>DON'T USE IT IN WEBLAB</b>"
   ]
  },
  {
   "cell_type": "markdown",
   "metadata": {
    "slideshow": {
     "slide_type": "slide"
    },
    "tags": []
   },
   "source": [
    "# Error handling best practices\n",
    "<p><b>What are the best practices of error handling? </b></p>\n",
    "<ul>\n",
    "    <li> Prefer exceptions for signaling errors over return codes.\n",
    "        </li>\n",
    "    <li> Only use exceptions for exceptional conditions, not normal flow control.\n",
    "        </li>\n",
    "    <li>Ensure all exceptions are caught and handled appropriately.\n",
    "        </li>\n",
    "    </ul>"
   ]
  },
  {
   "cell_type": "markdown",
   "metadata": {
    "slideshow": {
     "slide_type": "subslide"
    }
   },
   "source": [
    "# Debug example: divide by zero"
   ]
  },
  {
   "cell_type": "code",
   "execution_count": null,
   "metadata": {
    "slideshow": {
     "slide_type": "-"
    }
   },
   "outputs": [],
   "source": [
    "#include <iostream>\n",
    "#include <stdexcept>\n",
    "\n",
    "// A function that might throw an exception\n",
    "int divide(int numerator, int denominator) {\n",
    "    if (denominator == 0) {\n",
    "        throw std::invalid_argument(\"Denominator cannot be zero.\");\n",
    "    }\n",
    "    return numerator / denominator;\n",
    "}\n",
    "\n",
    "int main() {\n",
    "    try {\n",
    "        int a = 10;\n",
    "        int b = 0; // Intentionally set to zero to cause an exception\n",
    "        int result = divide(a, b);\n",
    "        std::cout << \"Result is: \" << result << std::endl;\n",
    "    } catch (const std::invalid_argument& e) {\n",
    "        // Handle the exception here\n",
    "        std::cerr << \"Caught an exception: \" << e.what() << std::endl;\n",
    "    }\n",
    "    return 0;\n",
    "}"
   ]
  },
  {
   "cell_type": "markdown",
   "metadata": {
    "slideshow": {
     "slide_type": "slide"
    }
   },
   "source": [
    "# Argument passing – by value\n",
    "\n",
    "Arguments that are passed <b>by value</b> are passed as a physical duplicate of the original variable "
   ]
  },
  {
   "cell_type": "code",
   "execution_count": 2,
   "metadata": {
    "slideshow": {
     "slide_type": "-"
    },
    "tags": []
   },
   "outputs": [],
   "source": [
    "int addOneByValue(int a) { return a + 1; }\n",
    "\n",
    "int i = 1;\n",
    "int j = addOneByValue(i);"
   ]
  },
  {
   "cell_type": "markdown",
   "metadata": {
    "slideshow": {
     "slide_type": "-"
    }
   },
   "source": [
    "<b><u>Quiz</u></b>: What happens if variable <code>a</code> is not of type <code>int</code> but a vector of several gigabyte?"
   ]
  },
  {
   "cell_type": "markdown",
   "metadata": {
    "slideshow": {
     "slide_type": "slide"
    },
    "tags": []
   },
   "source": [
    "# Argument passing – by reference\n",
    "\n",
    "Arguments that are passed <b>by reference</b> give the function read and write access to the memory location of the original variable"
   ]
  },
  {
   "cell_type": "code",
   "execution_count": 3,
   "metadata": {
    "slideshow": {
     "slide_type": "-"
    }
   },
   "outputs": [],
   "source": [
    "int addOneByReference(int& a) { return a + 1; }\n",
    "\n",
    "int i = 1;\n",
    "int j = addOneByReference(i);"
   ]
  },
  {
   "cell_type": "markdown",
   "metadata": {
    "slideshow": {
     "slide_type": "-"
    }
   },
   "source": [
    "<b><u>Quiz</u></b>: What happens if <code>addOneByReference()</code> tries to modify the value of the passed variable?"
   ]
  },
  {
   "cell_type": "markdown",
   "metadata": {
    "slideshow": {
     "slide_type": "subslide"
    }
   },
   "source": [
    "The <b>post-increment operator</b> <code>a++</code> performs the operation first and incremenets variable <code>a</code> <b>afterwards</b>"
   ]
  },
  {
   "cell_type": "code",
   "execution_count": 4,
   "metadata": {
    "slideshow": {
     "slide_type": "-"
    }
   },
   "outputs": [],
   "source": [
    "int addOneByReference1(int& a) { return a++; }\n",
    "\n",
    "int i = 1;\n",
    "int j = addOneByReference1(i);"
   ]
  },
  {
   "cell_type": "markdown",
   "metadata": {
    "slideshow": {
     "slide_type": "subslide"
    }
   },
   "source": [
    "The <b>pre-increment operator</b> <code>a++</code> incremenets variable <code>a</code> first and performs the operation <b>afterwards</b>"
   ]
  },
  {
   "cell_type": "code",
   "execution_count": 5,
   "metadata": {
    "slideshow": {
     "slide_type": "-"
    }
   },
   "outputs": [],
   "source": [
    "int addOneByReference2(int& a) { return ++a; }\n",
    "\n",
    "int i = 1;\n",
    "int j = addOneByReference2(i);"
   ]
  },
  {
   "cell_type": "markdown",
   "metadata": {
    "slideshow": {
     "slide_type": "slide"
    },
    "tags": []
   },
   "source": [
    "# Argument passing – by constant reference\n",
    "\n",
    "Arguments that are passed <b>by constant reference</b> give the function read access to the memory location of the original variable"
   ]
  },
  {
   "cell_type": "code",
   "execution_count": 6,
   "metadata": {
    "slideshow": {
     "slide_type": "-"
    }
   },
   "outputs": [],
   "source": [
    "int addOneByConstReference(int& a) { return a + 1; }\n",
    "\n",
    "int i = 1;\n",
    "int j = addOneByConstReference(i);"
   ]
  },
  {
   "cell_type": "markdown",
   "metadata": {
    "slideshow": {
     "slide_type": "slide"
    },
    "tags": []
   },
   "source": [
    "# C++ return value optimization (RVO)\n",
    "    \n",
    "<p>Most C++ compilers support RVO, that is, no temporary variable for the return value is created inside the function</p>\n",
    "\n",
    "<code>int addOne(const int& a) { return a+1; }\n",
    "</code>\n",
    "\n",
    "<p>but the return value is immediately assigned to variable <code>j</code></p>\n",
    "\n",
    "<code>int i = 1;\n",
    "int j = addOne(i); // RVO makes it int j = (i+1);\n",
    "</code>"
   ]
  },
  {
   "cell_type": "markdown",
   "metadata": {
    "slideshow": {
     "slide_type": "slide"
    },
    "tags": []
   },
   "source": [
    "# Argument passing\n",
    "    <p>\n",
    "        If we want a function that changes the argument <strong>directly</strong>, we must pass the argument by reference.\n",
    "    </p>\n",
    "    <pre>\n",
    "void addOne_Val(int  a) { a++; } // increment local copy\n",
    "void addOne_Ref(int& a) { a++; } // increment a(~i)\n",
    "    </pre>\n",
    "    <pre>\n",
    "int i = 1;       // i=1\n",
    "addOne_Val(i);   // i=1 (still)\n",
    "addOne_Ref(i);   // i=2\n",
    "    </pre>\n",
    "    <p>\n",
    "        The return type <strong>void</strong> indicates that 'nothing' is returned.\n",
    "    </p>"
   ]
  },
  {
   "cell_type": "markdown",
   "metadata": {
    "slideshow": {
     "slide_type": "slide"
    },
    "tags": []
   },
   "source": [
    "# Argument passing – by address\n",
    "\n",
    "Passing by <b>address</b>"
   ]
  },
  {
   "cell_type": "code",
   "execution_count": 7,
   "metadata": {
    "slideshow": {
     "slide_type": "-"
    }
   },
   "outputs": [],
   "source": [
    "int addOneByAddress(int* a) { return *a+1; }\n",
    "\n",
    "int i = 1;\n",
    "int j = addOneByAddress(&i);"
   ]
  },
  {
   "cell_type": "markdown",
   "metadata": {},
   "source": [
    "This is the old C-style to pass arguments that should be modifyable inside the function or to pass arrays, aka the first position in the computer's main memory at which the array starts."
   ]
  },
  {
   "cell_type": "markdown",
   "metadata": {
    "slideshow": {
     "slide_type": "slide"
    },
    "tags": []
   },
   "source": [
    "# Example\n",
    "\n",
    "Compute the sum of the entries of an array"
   ]
  },
  {
   "cell_type": "code",
   "execution_count": 9,
   "metadata": {
    "slideshow": {
     "slide_type": "-"
    }
   },
   "outputs": [
    {
     "name": "stdout",
     "output_type": "stream",
     "text": [
      "15\n"
     ]
    }
   ],
   "source": [
    "#include <iostream>\n",
    "\n",
    "double sum(const int* array, int length) {\n",
    "    \n",
    "    double s = 0;\n",
    "\n",
    "    for (auto i=0; i<length; i++)\n",
    "        s += array[i];\n",
    "\n",
    "    return s;\n",
    "}\n",
    "\n",
    "int array[5] = { 1, 2, 3, 4, 5 };\n",
    "std::cout << sum(array, 5) << std::endl;"
   ]
  },
  {
   "cell_type": "markdown",
   "metadata": {
    "slideshow": {
     "slide_type": "-"
    },
    "tags": []
   },
   "source": [
    "This is not OOP. <b>DON'T, REALLY DON'T DO THIS IN C++!</b> We will learn much better ways to pass bigger objects such as arrays by (constant) reference.\n",
    "\n",
    "There is one exception. If you want to allocate memory dynamically inside the function and assign it to a variable defined outside the function you need to work with double pointers."
   ]
  },
  {
   "cell_type": "markdown",
   "metadata": {
    "slideshow": {
     "slide_type": "slide"
    }
   },
   "source": [
    "# Static arrays\n",
    "    <p>Definition and creation of a static array</p>\n",
    "    <pre>int array[5];</pre>\n",
    "\n",
    "<p>Definition, creation and initialization of a static array:</p>\n",
    "    <pre>int array[5] = { 1, 2, 3, 4, 5 }; // since C++11\n",
    "int array[5]{ 1, 2, 3, 4, 5 }; // since C++11</pre>\n",
    "\n",
    " <p>Access of individual array positions:</p>\n"
   ]
  },
  {
   "cell_type": "code",
   "execution_count": 10,
   "metadata": {
    "slideshow": {
     "slide_type": "-"
    }
   },
   "outputs": [
    {
     "name": "stdout",
     "output_type": "stream",
     "text": [
      "1\n",
      "2\n",
      "3\n",
      "4\n",
      "5\n"
     ]
    }
   ],
   "source": [
    "for (auto i=0; i<5; i++)\n",
    "    std::cout << array[i] << std::endl;"
   ]
  },
  {
   "cell_type": "markdown",
   "metadata": {
    "slideshow": {
     "slide_type": "-"
    }
   },
   "source": [
    " <p>Remember that C++ <strong>starts indexing at 0</strong></p>\n",
    " <p>Static arrays are <strong>destroyed automatically</strong> at the end of scope</p>"
   ]
  },
  {
   "cell_type": "markdown",
   "metadata": {
    "slideshow": {
     "slide_type": "slide"
    }
   },
   "source": [
    "# Quiz: <span style=\"color:red;\">Static arrays</span>\n",
    "<p>What happens?</p>"
   ]
  },
  {
   "cell_type": "code",
   "execution_count": null,
   "metadata": {
    "slideshow": {
     "slide_type": "-"
    }
   },
   "outputs": [],
   "source": [
    "auto array = { 1, 2, 3, 4, 5 };"
   ]
  },
  {
   "cell_type": "code",
   "execution_count": null,
   "metadata": {
    "slideshow": {
     "slide_type": "-"
    }
   },
   "outputs": [],
   "source": [
    "auto array{ 1, 2, 3, 4, 5 };"
   ]
  },
  {
   "cell_type": "markdown",
   "metadata": {
    "slideshow": {
     "slide_type": "slide"
    },
    "tags": []
   },
   "source": [
    "# Quiz: <span style=\"color:red;\">char* argv[]</span>\n",
    "<p>What is <span style=\"color:red;\">char* argv[]</span>?</p>\n",
    "\n",
    "<p>Example use case:</p>"
   ]
  },
  {
   "cell_type": "code",
   "execution_count": null,
   "metadata": {
    "slideshow": {
     "slide_type": "-"
    }
   },
   "outputs": [],
   "source": [
    "main(int argc, char* argv[]) {\n",
    "     for (int i=0; i<argc; i++)\n",
    "        std::cout << i << “-Argument is “ << argv[i] << “\\n”;\n",
    "}"
   ]
  },
  {
   "cell_type": "markdown",
   "metadata": {
    "slideshow": {
     "slide_type": "slide"
    }
   },
   "source": [
    "<head>\n",
    "    <meta charset=\"UTF-8\">\n",
    "    <meta name=\"viewport\" content=\"width=device-width, initial-scale=1.0\">\n",
    "    <style>\n",
    "        /* Optional: Add some basic styling */\n",
    "        h1 {\n",
    "            color: blue;\n",
    "        }\n",
    "        code {\n",
    "            background-color: #f4f4f4;\n",
    "            padding: 2px 5px;\n",
    "            border-radius: 3px;\n",
    "            display: block;\n",
    "            margin: 10px 0;\n",
    "        }\n",
    "    </style>\n",
    "</head>\n",
    "<body>\n",
    "\n",
    "# Dynamic arrays\n",
    "<ul>\n",
    "    <li>Definition and allocation of dynamic array\n",
    "        <p><code>int* array = new int[5];</code></p>\n",
    "    </li>\n",
    "    <li>Definition, allocation and initialization of dynamic array\n",
    "        <p><code>int* array = new int[5]{ 1, 2, 3, 4, 5 }; // in C++11</code></p>\n",
    "    </li>\n",
    "    <li>Explicit deallocation of dynamically allocated array needed\n",
    "        <p><code>delete[] array;</code></p>\n",
    "    </li>\n",
    "    <li>Think fail-safe! Because it still points to an invalid address\n",
    "        <p><code>array = nullptr;</code></p>\n",
    "    </li>\n",
    "</ul>\n",
    "\n",
    "</body>"
   ]
  },
  {
   "cell_type": "markdown",
   "metadata": {
    "slideshow": {
     "slide_type": "subslide"
    }
   },
   "source": [
    "# Example of a dynamic array"
   ]
  },
  {
   "cell_type": "code",
   "execution_count": 11,
   "metadata": {
    "slideshow": {
     "slide_type": "-"
    },
    "tags": []
   },
   "outputs": [
    {
     "name": "stdout",
     "output_type": "stream",
     "text": [
      "1\n",
      "2\n",
      "3\n",
      "4\n",
      "5\n"
     ]
    }
   ],
   "source": [
    "#include <iostream>\n",
    "\n",
    "int* array = new int[5]{ 1, 2, 3, 4, 5 };\n",
    "\n",
    "for (auto i=0; i<5; i++)\n",
    "    std::cout << array[i] << std::endl;\n",
    "\n",
    "delete[] array;\n",
    "array = nullptr;"
   ]
  },
  {
   "cell_type": "markdown",
   "metadata": {
    "slideshow": {
     "slide_type": "-"
    },
    "tags": []
   },
   "source": [
    "<img src='plots/dynamicarray.png' width=\"400px\">"
   ]
  },
  {
   "cell_type": "markdown",
   "metadata": {
    "slideshow": {
     "slide_type": "slide"
    },
    "tags": []
   },
   "source": [
    "# Static vs. dynamic arrays\n",
    "\n",
    "<b>Static arrays</b> require the size to be known at compile time "
   ]
  },
  {
   "cell_type": "code",
   "execution_count": null,
   "metadata": {
    "slideshow": {
     "slide_type": "-"
    }
   },
   "outputs": [],
   "source": [
    "int array[5];\n",
    "constexpr int k=5; // constexpr tells the compiler that the \n",
    "int array[k];      // expression is available at compile time\n",
    "int k=5;\n",
    "int array[k];      // Gives a compiler error !!!"
   ]
  },
  {
   "cell_type": "markdown",
   "metadata": {
    "slideshow": {
     "slide_type": "subslide"
    }
   },
   "source": [
    "<b>Dynamic arrays</b> allow variable sizes at run-time"
   ]
  },
  {
   "cell_type": "code",
   "execution_count": null,
   "metadata": {
    "slideshow": {
     "slide_type": "-"
    }
   },
   "outputs": [],
   "source": [
    "int k = std::atoi(argv[1]);\n",
    "int* array = new int[k];"
   ]
  },
  {
   "cell_type": "markdown",
   "metadata": {
    "slideshow": {
     "slide_type": "slide"
    }
   },
   "source": [
    "<img src='plots/doublepointer.png' width=\"700px\">"
   ]
  },
  {
   "cell_type": "markdown",
   "metadata": {
    "slideshow": {
     "slide_type": "slide"
    }
   },
   "source": [
    "# Double pointer"
   ]
  },
  {
   "cell_type": "markdown",
   "metadata": {
    "slideshow": {
     "slide_type": "-"
    }
   },
   "source": [
    "<code>void func(int v) // can use value of variable v</code>\n",
    "\n",
    "<code>void func(const int& v) // can use value of variable v</code>"
   ]
  },
  {
   "cell_type": "code",
   "execution_count": null,
   "metadata": {
    "slideshow": {
     "slide_type": "-"
    }
   },
   "outputs": [],
   "source": []
  },
  {
   "cell_type": "markdown",
   "metadata": {
    "slideshow": {
     "slide_type": "slide"
    }
   },
   "source": [
    "# Namespaces\n",
    "\n",
    "Namespaces, like <code>std</code>, allow to bundle functions even with\n",
    "the same function name (and interface) into logical units"
   ]
  },
  {
   "cell_type": "code",
   "execution_count": null,
   "metadata": {
    "slideshow": {
     "slide_type": "-"
    }
   },
   "outputs": [],
   "source": [
    "namespace tudelft {\n",
    "    void hello() {\n",
    "      std::cout << “Hello TU Delft\\n”;\n",
    "    }\n",
    "}"
   ]
  },
  {
   "cell_type": "code",
   "execution_count": null,
   "metadata": {
    "slideshow": {
     "slide_type": "-"
    }
   },
   "outputs": [],
   "source": [
    "namespace other {\n",
    "    void hello() {\n",
    "      std::cout << “Hello other\\n”;\n",
    "    }\n",
    "}"
   ]
  },
  {
   "cell_type": "markdown",
   "metadata": {
    "slideshow": {
     "slide_type": "subslide"
    }
   },
   "source": [
    "Functions implemented in a namespace can be called by\n",
    "\n",
    "<ul>\n",
    "    <li>providing the namespace explicitly\n",
    "         <p><code>tudelft::hello();</code></p>\n",
    "         <p><code>other::hello();</code></p>\n",
    "    </li>\n",
    "    <li>importing the namespace into the scope\n",
    "<p><code>{\n",
    "    using namespace tudelft;\n",
    "    hello(); \n",
    "}</code></p>\n",
    "\n",
    "<p><code>{\n",
    "    using namespace other;\n",
    "    hello();\n",
    "}</code></p>\n",
    "    </li>\n",
    "</ul>"
   ]
  },
  {
   "cell_type": "markdown",
   "metadata": {
    "slideshow": {
     "slide_type": "subslide"
    }
   },
   "source": [
    "Namespaces can be nested"
   ]
  },
  {
   "cell_type": "code",
   "execution_count": null,
   "metadata": {
    "slideshow": {
     "slide_type": "-"
    }
   },
   "outputs": [],
   "source": [
    "#include <iostream>\n",
    "\n",
    "namespace tudelft {\n",
    "    void hello() { std::cout << \"Hello TU Delft\\n\"; }\n",
    "    namespace eemcs {\n",
    "      void hello() { std::cout << \"Hello EEMCS\\n\"; }\n",
    "    }\n",
    "}\n",
    "\n",
    "tudelft::hello();\n",
    "tudelft::eemcs::hello();"
   ]
  },
  {
   "cell_type": "markdown",
   "metadata": {
    "slideshow": {
     "slide_type": "subslide"
    }
   },
   "source": [
    "Leading <code>::</code> goes back to outermost unnamed namespace"
   ]
  },
  {
   "cell_type": "code",
   "execution_count": null,
   "metadata": {
    "slideshow": {
     "slide_type": "-"
    },
    "tags": []
   },
   "outputs": [],
   "source": [
    "namespace tudelft {\n",
    "    void hello() { ::hello();\n",
    "                   std::cout << \"TU Delft\\n\"; }\n",
    "    namespace eemcs {\n",
    "      void hello() { ::hello();\n",
    "  std::cout << \"EEMCS at\";\n",
    "  ::tudelft::hello();\n",
    "            }\n",
    "    }\n",
    "}\n",
    "\n",
    "void hello() { std::cout << \"Hello \"; }"
   ]
  }
 ],
 "metadata": {
  "celltoolbar": "Slideshow",
  "kernelspec": {
   "display_name": "C++17",
   "language": "C++17",
   "name": "xcpp17"
  },
  "language_info": {
   "codemirror_mode": "text/x-c++src",
   "file_extension": ".cpp",
   "mimetype": "text/x-c++src",
   "name": "c++",
   "version": "17"
  },
  "rise": {
   "autolaunch": true,
   "enable_chalkboard": true
  }
 },
 "nbformat": 4,
 "nbformat_minor": 4
}
